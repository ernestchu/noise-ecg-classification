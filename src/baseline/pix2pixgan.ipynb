{
 "cells": [
  {
   "cell_type": "code",
   "execution_count": null,
   "metadata": {},
   "outputs": [],
   "source": [
    "import torch\n",
    "import torch.nn as nn\n",
    "import numpy as np\n",
    "import h5py\n",
    "import os\n",
    "\n",
    "encoding = 'NAVR'\n",
    "\n",
    "class DB10s(torch.utils.data.Dataset):\n",
    "    def __init__(self):\n",
    "        self.h5_list = []\n",
    "        root='./noise-ecg-classification/data_10s'\n",
    "        for dir in os.listdir(root):\n",
    "            if len(dir) != 3:\n",
    "                dir = os.path.join(root, dir)\n",
    "                for file in os.listdir(dir):\n",
    "                  path=os.path.join(dir, file)\n",
    "                  with h5py.File(path, 'r') as f:\n",
    "                    if len(f['MLII'][:])==3600:\n",
    "                      noNoisePath=os.path.join(dir[:-3], file)\n",
    "                      self.h5_list.append((path, noNoisePath))\n",
    "        \n",
    "    def __getitem__(self, index):\n",
    "        path, noNoisePath = self.h5_list[index]\n",
    "        with h5py.File(path, 'r') as f, h5py.File(noNoisePath, 'r') as f2:\n",
    "            MLII = torch.tensor(f['MLII'][:])\n",
    "            V1 = torch.tensor(f['V1'][:])\n",
    "            return {\n",
    "                'MLII': torch.tensor(f['MLII'][:]).float(),\n",
    "                'V1': torch.tensor(f['V1'][:]).float(),\n",
    "                'target MLII': torch.tensor(f2['MLII'][:]).float(),\n",
    "                'target V1': torch.tensor(f2['V1'][:]).float(),\n",
    "            }\n",
    "    def __len__(self):\n",
    "        return len(self.h5_list)\n",
    "dataset = DB10s()"
   ]
  }
 ],
 "metadata": {
  "kernelspec": {
   "display_name": "Python 3",
   "language": "python",
   "name": "python3"
  },
  "language_info": {
   "codemirror_mode": {
    "name": "ipython",
    "version": 3
   },
   "file_extension": ".py",
   "mimetype": "text/x-python",
   "name": "python",
   "nbconvert_exporter": "python",
   "pygments_lexer": "ipython3",
   "version": "3.6.8"
  }
 },
 "nbformat": 4,
 "nbformat_minor": 4
}
