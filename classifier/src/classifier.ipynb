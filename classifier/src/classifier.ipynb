{
 "cells": [
  {
   "cell_type": "code",
   "execution_count": 1,
   "metadata": {},
   "outputs": [],
   "source": [
    "import torch\n",
    "import torch.nn as nn\n",
    "import numpy as np\n",
    "import h5py\n",
    "import os\n",
    "\n",
    "encoding = '.NLRAaJSVF[!]ejE/fxQ|'\n",
    "\n",
    "class NSTDB(torch.utils.data.Dataset):\n",
    "    def __init__(self):\n",
    "        self.h5_list = []\n",
    "        for root, dirs, files in os.walk('../segmentation'):\n",
    "            for f in files:\n",
    "                path = os.path.join(root, f)\n",
    "                with h5py.File(path, 'r') as h5:\n",
    "                    if h5['MLII'][:].size != 252:\n",
    "                        continue\n",
    "                self.h5_list.append(os.path.join(root, f))\n",
    "        \n",
    "    def __getitem__(self, index):\n",
    "        with h5py.File(self.h5_list[index], 'r') as f:\n",
    "            index = f['index'][()]\n",
    "            MLII = torch.tensor(f['MLII'][:])\n",
    "            label = torch.tensor(encoding.index(f['label'][()]))\n",
    "            return {\n",
    "                'index': index,\n",
    "                'MLII': MLII.float(),\n",
    "                'label': label,\n",
    "            }\n",
    "    def __len__(self):\n",
    "        return len(self.h5_list)\n",
    "dataset = NSTDB()"
   ]
  },
  {
   "cell_type": "code",
   "execution_count": 2,
   "metadata": {},
   "outputs": [
    {
     "data": {
      "text/plain": [
       "<Figure size 640x480 with 1 Axes>"
      ]
     },
     "metadata": {},
     "output_type": "display_data"
    },
    {
     "name": "stdout",
     "output_type": "stream",
     "text": [
      "Label: tensor(1)\n",
      "Length: 110261\n"
     ]
    }
   ],
   "source": [
    "import matplotlib.pyplot as plt\n",
    "index, MLII, label = dataset[10000].values()\n",
    "plt.plot(range(len(MLII)), MLII)\n",
    "plt.show()\n",
    "print('Label:', label)\n",
    "print('Length:', len(dataset))"
   ]
  },
  {
   "cell_type": "code",
   "execution_count": 3,
   "metadata": {},
   "outputs": [
    {
     "name": "stdout",
     "output_type": "stream",
     "text": [
      "77182 33079\n"
     ]
    }
   ],
   "source": [
    "dataset_train, dataset_val = torch.utils.data.random_split(dataset, [int(0.7*len(dataset)), len(dataset)-int(0.7*len(dataset))])\n",
    "print(len(dataset_train), len(dataset_val))\n",
    "from torch.utils.data import DataLoader\n",
    "BATCH_SIZE = 1024\n",
    "train_loader = DataLoader(dataset_train, batch_size=BATCH_SIZE, shuffle=True)\n",
    "val_loader = DataLoader(dataset_val, batch_size=BATCH_SIZE, shuffle=True)"
   ]
  },
  {
   "cell_type": "code",
   "execution_count": 4,
   "metadata": {},
   "outputs": [],
   "source": [
    "class Model(nn.Module):\n",
    "    def __init__(self):\n",
    "        super(Model, self).__init__()\n",
    "        self.fc = nn.Sequential(\n",
    "            nn.Linear(252, 500),\n",
    "            nn.ReLU(),\n",
    "            nn.BatchNorm1d(500),\n",
    "            nn.Dropout(0.3),\n",
    "            nn.Linear(500, 1000),\n",
    "            nn.ReLU(),\n",
    "            nn.BatchNorm1d(1000),\n",
    "            nn.Dropout(0.3),\n",
    "            nn.Linear(1000, 1000),\n",
    "            nn.ReLU(),\n",
    "            nn.BatchNorm1d(1000),\n",
    "            nn.Dropout(0.3),\n",
    "            nn.Linear(1000, 500),\n",
    "            nn.ReLU(),\n",
    "            nn.BatchNorm1d(500),\n",
    "            nn.Dropout(0.3),\n",
    "            nn.Linear(500, len(encoding))\n",
    "        )\n",
    "    def forward(self, x):\n",
    "        x = self.fc(x)\n",
    "        return x\n",
    "model = Model().cuda()"
   ]
  },
  {
   "cell_type": "code",
   "execution_count": 5,
   "metadata": {},
   "outputs": [],
   "source": [
    "criterion = nn.CrossEntropyLoss().cuda()\n",
    "optimizer = torch.optim.SGD(model.parameters(), lr=1e-3, momentum=0.9)"
   ]
  },
  {
   "cell_type": "code",
   "execution_count": 6,
   "metadata": {},
   "outputs": [],
   "source": [
    "def train(input_data, model, criterion, optimizer):\n",
    "    model.train()\n",
    "    loss_list = []\n",
    "    total_count = 0\n",
    "    acc_count = 0\n",
    "    for data in input_data:\n",
    "        index, MLII, label = data['index'], data['MLII'].cuda(), data['label'].cuda()\n",
    "        \n",
    "        optimizer.zero_grad()\n",
    "        out = model(MLII)\n",
    "        loss = criterion(out, label)\n",
    "        loss.backward()\n",
    "        optimizer.step()\n",
    "        \n",
    "        _, pred = torch.max(out, 1)\n",
    "        total_count += label.shape[0]\n",
    "        acc_count += (pred == label).sum().item()\n",
    "        loss_list.append(loss.item())\n",
    "        \n",
    "    acc = acc_count/total_count\n",
    "    loss = sum(loss_list)/len(loss_list)\n",
    "    return acc, loss"
   ]
  },
  {
   "cell_type": "code",
   "execution_count": 7,
   "metadata": {},
   "outputs": [],
   "source": [
    "def val(input_data, model, criterion):\n",
    "    model.train()\n",
    "    loss_list = []\n",
    "    total_count = 0\n",
    "    acc_count = 0\n",
    "    with torch.no_grad():\n",
    "        for data in input_data:\n",
    "            index, MLII, label = data['index'], data['MLII'].cuda(), data['label'].cuda()\n",
    "        \n",
    "            out = model(MLII)\n",
    "            loss = criterion(out, label)\n",
    "\n",
    "            _, pred = torch.max(out, 1)\n",
    "            total_count += label.shape[0]\n",
    "            acc_count += (pred == label).sum().item()\n",
    "            loss_list.append(loss.item())\n",
    "        \n",
    "    acc = acc_count/total_count\n",
    "    loss = sum(loss_list)/len(loss_list)\n",
    "    return acc, loss"
   ]
  },
  {
   "cell_type": "code",
   "execution_count": 8,
   "metadata": {},
   "outputs": [
    {
     "name": "stdout",
     "output_type": "stream",
     "text": [
      "Start training...\n",
      "\n",
      "==================== Epoch 1 ====================\n",
      "Train Acc: 0.634073 Train Loss: 1.748568\n",
      "  Val Acc: 0.861060   Val Loss: 0.787550\n",
      "\n",
      "==================== Epoch 2 ====================\n",
      "Train Acc: 0.897683 Train Loss: 0.549649\n",
      "  Val Acc: 0.920493   Val Loss: 0.415239\n",
      "\n",
      "==================== Epoch 3 ====================\n",
      "Train Acc: 0.925177 Train Loss: 0.376109\n",
      "  Val Acc: 0.932132   Val Loss: 0.342260\n",
      "\n",
      "==================== Epoch 4 ====================\n",
      "Train Acc: 0.934389 Train Loss: 0.320697\n",
      "  Val Acc: 0.937211   Val Loss: 0.311311\n",
      "\n",
      "==================== Epoch 5 ====================\n",
      "Train Acc: 0.938846 Train Loss: 0.287379\n",
      "  Val Acc: 0.940687   Val Loss: 0.279770\n"
     ]
    }
   ],
   "source": [
    "max_epochs = 5\n",
    "log_interval = 1\n",
    "\n",
    "train_acc_list = []\n",
    "train_loss_list = []\n",
    "val_acc_list = []\n",
    "val_loss_list = []\n",
    "\n",
    "min_loss = 1000000\n",
    "best_model = None\n",
    "\n",
    "print(\"Start training...\")\n",
    "for epoch in range(1, max_epochs+1):\n",
    "    train_acc, train_loss = train(train_loader, model, criterion, optimizer)\n",
    "    val_acc, val_loss = val(val_loader, model, criterion)\n",
    "    \n",
    "    train_acc_list.append(train_acc)\n",
    "    train_loss_list.append(train_loss)\n",
    "    val_acc_list.append(val_acc)\n",
    "    val_loss_list.append(val_loss)\n",
    "    \n",
    "#     if val_loss < min_loss:\n",
    "#         min_loss = val_loss\n",
    "#         best_model = model.state_dict()\n",
    "#         best_log_vars = (log_var_a, log_var_b)\n",
    "        \n",
    "    if epoch % log_interval == 0:\n",
    "        print('')\n",
    "        print('=' * 20, 'Epoch', epoch, '=' * 20)\n",
    "        print('Train Acc: {:.6f} Train Loss: {:.6f}'.format(train_acc, train_loss))\n",
    "        print('  Val Acc: {:.6f}   Val Loss: {:.6f}'.format(val_acc, val_loss))"
   ]
  },
  {
   "cell_type": "code",
   "execution_count": 9,
   "metadata": {},
   "outputs": [
    {
     "data": {
      "image/png": "[encoded data removed]",
      "text/plain": [
       "<Figure size 864x288 with 1 Axes>"
      ]
     },
     "metadata": {
      "needs_background": "light"
     },
     "output_type": "display_data"
    },
    {
     "data": {
      "image/png": "[encoded data removed]",
      "text/plain": [
       "<Figure size 864x288 with 1 Axes>"
      ]
     },
     "metadata": {
      "needs_background": "light"
     },
     "output_type": "display_data"
    }
   ],
   "source": [
    "import matplotlib.pyplot as plt\n",
    "\n",
    "plt.figure(figsize=(12, 4))\n",
    "plt.plot(range(len(train_loss_list)), train_loss_list)\n",
    "plt.plot(range(len(val_loss_list)), val_loss_list, c='r')\n",
    "plt.legend(['train_loss', 'val'])\n",
    "plt.title('Loss')\n",
    "plt.show()\n",
    "plt.figure(figsize=(12, 4))\n",
    "plt.plot(range(len(train_acc_list)), train_acc_list)\n",
    "plt.plot(range(len(val_acc_list)), val_acc_list, c='r')\n",
    "plt.legend(['train', 'val'])\n",
    "plt.show()"
   ]
  },
  {
   "cell_type": "code",
   "execution_count": null,
   "metadata": {},
   "outputs": [],
   "source": []
  }
 ],
 "metadata": {
  "kernelspec": {
   "display_name": "Python 3",
   "language": "python",
   "name": "python3"
  },
  "language_info": {
   "codemirror_mode": {
    "name": "ipython",
    "version": 3
   },
   "file_extension": ".py",
   "mimetype": "text/x-python",
   "name": "python",
   "nbconvert_exporter": "python",
   "pygments_lexer": "ipython3",
   "version": "3.6.8"
  }
 },
 "nbformat": 4,
 "nbformat_minor": 4
}
