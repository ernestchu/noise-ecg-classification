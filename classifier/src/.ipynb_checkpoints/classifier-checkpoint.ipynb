{
 "cells": [
  {
   "cell_type": "code",
   "execution_count": 1,
   "metadata": {},
   "outputs": [],
   "source": [
    "import torch\n",
    "import torch.nn as nn\n",
    "import numpy as np\n",
    "import h5py\n",
    "import os\n",
    "from ECG_classifier import Classifier\n",
    "\n",
    "encoding = 'NAVR'\n",
    "freq = [0]*len(encoding)\n",
    "\n",
    "N_counter = 0\n",
    "\n",
    "class NSTDB(torch.utils.data.Dataset):\n",
    "    def __init__(self):\n",
    "        global N_counter\n",
    "        self.h5_list = []\n",
    "        for root, dirs, files in os.walk('../segmentation'):\n",
    "            for f in files:\n",
    "                path = os.path.join(root, f)\n",
    "                if path[-2:] != 'h5':\n",
    "                    continue\n",
    "                with h5py.File(path, 'r') as h5:\n",
    "                    if h5['MLII'][:].size != 252:\n",
    "                        continue\n",
    "                    freq[encoding.index(h5['label'][()])] += 1\n",
    "                self.h5_list.append(os.path.join(root, f))\n",
    "        \n",
    "    def __getitem__(self, index):\n",
    "        with h5py.File(self.h5_list[index], 'r') as f:\n",
    "            index = f['index'][()]\n",
    "            MLII = torch.unsqueeze(torch.tensor(f['MLII'][:]), 0)\n",
    "            label = torch.tensor(encoding.index(f['label'][()]))\n",
    "            return {\n",
    "                'index': index,\n",
    "                'MLII': MLII.float(),\n",
    "                'label': label,\n",
    "            }\n",
    "    def __len__(self):\n",
    "        return len(self.h5_list)\n",
    "dataset = NSTDB()"
   ]
  },
  {
   "cell_type": "code",
   "execution_count": 2,
   "metadata": {},
   "outputs": [
    {
     "data": {
      "image/png": "[encoded data removed]",
      "text/plain": [
       "<Figure size 432x288 with 1 Axes>"
      ]
     },
     "metadata": {
      "needs_background": "light"
     },
     "output_type": "display_data"
    },
    {
     "name": "stdout",
     "output_type": "stream",
     "text": [
      "Label: tensor(3)\n",
      "Length: 4264\n",
      "freq: [1543, 96, 460, 2165]\n",
      "Weight tensor([ 1.4031, 22.5521,  4.7065,  1.0000])\n"
     ]
    }
   ],
   "source": [
    "import matplotlib.pyplot as plt\n",
    "index, MLII, label = dataset[100].values()\n",
    "plt.plot(range(len(MLII[0])), MLII[0])\n",
    "plt.show()\n",
    "print('Label:', label)\n",
    "print('Length:', len(dataset))\n",
    "print('freq:', freq)\n",
    "weight = max(freq)/torch.tensor(freq)\n",
    "print('Weight', weight)"
   ]
  },
  {
   "cell_type": "code",
   "execution_count": 3,
   "metadata": {},
   "outputs": [
    {
     "name": "stdout",
     "output_type": "stream",
     "text": [
      "3837 427\n"
     ]
    }
   ],
   "source": [
    "dataset_train, dataset_val = torch.utils.data.random_split(dataset, [int(0.9*len(dataset)), len(dataset)-int(0.9*len(dataset))])\n",
    "print(len(dataset_train), len(dataset_val))\n",
    "from torch.utils.data import DataLoader\n",
    "BATCH_SIZE = 512\n",
    "train_loader = DataLoader(dataset_train, batch_size=BATCH_SIZE, shuffle=True)\n",
    "val_loader = DataLoader(dataset_val, batch_size=BATCH_SIZE, shuffle=True)"
   ]
  },
  {
   "cell_type": "code",
   "execution_count": 4,
   "metadata": {},
   "outputs": [],
   "source": [
    "model = Classifier().cuda()"
   ]
  },
  {
   "cell_type": "code",
   "execution_count": 5,
   "metadata": {},
   "outputs": [],
   "source": [
    "criterion = nn.CrossEntropyLoss(weight=weight).cuda()\n",
    "optimizer = torch.optim.SGD(model.parameters(), lr=1e-3, momentum=0.9)"
   ]
  },
  {
   "cell_type": "code",
   "execution_count": 6,
   "metadata": {},
   "outputs": [],
   "source": [
    "def train(input_data, model, criterion, optimizer):\n",
    "    model.train()\n",
    "    loss_list = []\n",
    "    total_count = 0\n",
    "    acc_count = 0\n",
    "    for data in input_data:\n",
    "        index, MLII, label = data['index'], data['MLII'].cuda(), data['label'].cuda()\n",
    "        \n",
    "        optimizer.zero_grad()\n",
    "        out = model(MLII)\n",
    "        loss = criterion(out, label)\n",
    "        loss.backward()\n",
    "        optimizer.step()\n",
    "        \n",
    "        _, pred = torch.max(out, 1)\n",
    "        total_count += label.shape[0]\n",
    "        acc_count += (pred == label).sum().item()\n",
    "        loss_list.append(loss.item())\n",
    "        \n",
    "    acc = acc_count/total_count\n",
    "    loss = sum(loss_list)/len(loss_list)\n",
    "    return acc, loss"
   ]
  },
  {
   "cell_type": "code",
   "execution_count": 7,
   "metadata": {},
   "outputs": [],
   "source": [
    "def val(input_data, model, criterion):\n",
    "    model.train()\n",
    "    loss_list = []\n",
    "    total_count = 0\n",
    "    acc_count = 0\n",
    "    with torch.no_grad():\n",
    "        for data in input_data:\n",
    "            index, MLII, label = data['index'], data['MLII'].cuda(), data['label'].cuda()\n",
    "        \n",
    "            out = model(MLII)\n",
    "            loss = criterion(out, label)\n",
    "\n",
    "            _, pred = torch.max(out, 1)\n",
    "            total_count += label.shape[0]\n",
    "            acc_count += (pred == label).sum().item()\n",
    "            loss_list.append(loss.item())\n",
    "        \n",
    "    acc = acc_count/total_count\n",
    "    loss = sum(loss_list)/len(loss_list)\n",
    "    return acc, loss"
   ]
  },
  {
   "cell_type": "code",
   "execution_count": 8,
   "metadata": {},
   "outputs": [
    {
     "name": "stdout",
     "output_type": "stream",
     "text": [
      "Start training...\n",
      "\n",
      "==================== Epoch 1 ====================\n",
      "Train Acc: 0.474329 Train Loss: 1.351076\n",
      "  Val Acc: 0.948478   Val Loss: 1.239099\n",
      "\n",
      "==================== Epoch 2 ====================\n",
      "Train Acc: 0.963513 Train Loss: 1.142059\n",
      "  Val Acc: 0.967213   Val Loss: 1.017024\n",
      "\n",
      "==================== Epoch 3 ====================\n",
      "Train Acc: 0.964816 Train Loss: 0.924986\n",
      "  Val Acc: 0.967213   Val Loss: 0.817020\n",
      "\n",
      "==================== Epoch 4 ====================\n",
      "Train Acc: 0.963253 Train Loss: 0.748841\n",
      "  Val Acc: 0.971897   Val Loss: 0.656065\n",
      "\n",
      "==================== Epoch 5 ====================\n",
      "Train Acc: 0.959083 Train Loss: 0.615815\n",
      "  Val Acc: 0.969555   Val Loss: 0.549327\n",
      "\n",
      "==================== Epoch 6 ====================\n",
      "Train Acc: 0.955695 Train Loss: 0.525828\n",
      "  Val Acc: 0.967213   Val Loss: 0.482088\n",
      "\n",
      "==================== Epoch 7 ====================\n",
      "Train Acc: 0.951525 Train Loss: 0.465670\n",
      "  Val Acc: 0.962529   Val Loss: 0.438896\n",
      "\n",
      "==================== Epoch 8 ====================\n",
      "Train Acc: 0.943967 Train Loss: 0.425809\n",
      "  Val Acc: 0.955504   Val Loss: 0.409283\n",
      "\n",
      "==================== Epoch 9 ====================\n",
      "Train Acc: 0.940579 Train Loss: 0.400122\n",
      "  Val Acc: 0.950820   Val Loss: 0.387588\n",
      "\n",
      "==================== Epoch 10 ====================\n",
      "Train Acc: 0.934324 Train Loss: 0.378111\n",
      "  Val Acc: 0.943794   Val Loss: 0.371221\n",
      "\n",
      "==================== Epoch 11 ====================\n",
      "Train Acc: 0.934584 Train Loss: 0.356618\n",
      "  Val Acc: 0.946136   Val Loss: 0.358460\n",
      "\n",
      "==================== Epoch 12 ====================\n",
      "Train Acc: 0.929111 Train Loss: 0.339683\n",
      "  Val Acc: 0.943794   Val Loss: 0.346351\n",
      "\n",
      "==================== Epoch 13 ====================\n",
      "Train Acc: 0.926766 Train Loss: 0.335028\n",
      "  Val Acc: 0.936768   Val Loss: 0.336881\n",
      "\n",
      "==================== Epoch 14 ====================\n",
      "Train Acc: 0.924681 Train Loss: 0.314466\n",
      "  Val Acc: 0.934426   Val Loss: 0.328237\n",
      "\n",
      "==================== Epoch 15 ====================\n",
      "Train Acc: 0.921032 Train Loss: 0.305449\n",
      "  Val Acc: 0.925059   Val Loss: 0.319703\n",
      "\n",
      "==================== Epoch 16 ====================\n",
      "Train Acc: 0.923117 Train Loss: 0.293407\n",
      "  Val Acc: 0.927400   Val Loss: 0.313439\n",
      "\n",
      "==================== Epoch 17 ====================\n",
      "Train Acc: 0.914517 Train Loss: 0.278963\n",
      "  Val Acc: 0.925059   Val Loss: 0.307809\n",
      "\n",
      "==================== Epoch 18 ====================\n",
      "Train Acc: 0.928069 Train Loss: 0.267334\n",
      "  Val Acc: 0.941452   Val Loss: 0.301515\n",
      "\n",
      "==================== Epoch 19 ====================\n",
      "Train Acc: 0.934063 Train Loss: 0.269094\n",
      "  Val Acc: 0.948478   Val Loss: 0.296110\n",
      "\n",
      "==================== Epoch 20 ====================\n",
      "Train Acc: 0.935627 Train Loss: 0.258489\n",
      "  Val Acc: 0.939110   Val Loss: 0.291882\n"
     ]
    }
   ],
   "source": [
    "max_epochs = 20\n",
    "log_interval = 1\n",
    "\n",
    "train_acc_list = []\n",
    "train_loss_list = []\n",
    "val_acc_list = []\n",
    "val_loss_list = []\n",
    "\n",
    "min_loss = 1000000\n",
    "best_model = None\n",
    "\n",
    "print(\"Start training...\")\n",
    "for epoch in range(1, max_epochs+1):\n",
    "    train_acc, train_loss = train(train_loader, model, criterion, optimizer)\n",
    "    val_acc, val_loss = val(val_loader, model, criterion)\n",
    "    \n",
    "    train_acc_list.append(train_acc)\n",
    "    train_loss_list.append(train_loss)\n",
    "    val_acc_list.append(val_acc)\n",
    "    val_loss_list.append(val_loss)\n",
    "    \n",
    "    if val_loss < min_loss:\n",
    "        min_loss = val_loss\n",
    "        best_model = model.state_dict()\n",
    "        \n",
    "    if epoch % log_interval == 0:\n",
    "        print('')\n",
    "        print('=' * 20, 'Epoch', epoch, '=' * 20)\n",
    "        print('Train Acc: {:.6f} Train Loss: {:.6f}'.format(train_acc, train_loss))\n",
    "        print('  Val Acc: {:.6f}   Val Loss: {:.6f}'.format(val_acc, val_loss))\n",
    "        \n",
    "torch.save(best_model, 'ECG_classifier_params.pth')"
   ]
  },
  {
   "cell_type": "code",
   "execution_count": 9,
   "metadata": {},
   "outputs": [
    {
     "data": {
      "image/png": "[encoded data removed]",
      "text/plain": [
       "<Figure size 864x288 with 1 Axes>"
      ]
     },
     "metadata": {
      "needs_background": "light"
     },
     "output_type": "display_data"
    },
    {
     "data": {
      "image/png": "[encoded data removed]",
      "text/plain": [
       "<Figure size 864x288 with 1 Axes>"
      ]
     },
     "metadata": {
      "needs_background": "light"
     },
     "output_type": "display_data"
    }
   ],
   "source": [
    "import matplotlib.pyplot as plt\n",
    "\n",
    "plt.figure(figsize=(12, 4))\n",
    "plt.plot(range(len(train_loss_list)), train_loss_list)\n",
    "plt.plot(range(len(val_loss_list)), val_loss_list, c='r')\n",
    "plt.legend(['train_loss', 'val'])\n",
    "plt.title('Loss')\n",
    "plt.show()\n",
    "plt.figure(figsize=(12, 4))\n",
    "plt.plot(range(len(train_acc_list)), train_acc_list)\n",
    "plt.plot(range(len(val_acc_list)), val_acc_list, c='r')\n",
    "plt.legend(['train', 'val'])\n",
    "plt.show()"
   ]
  },
  {
   "cell_type": "code",
   "execution_count": null,
   "metadata": {},
   "outputs": [],
   "source": []
  }
 ],
 "metadata": {
  "kernelspec": {
   "display_name": "Python 3",
   "language": "python",
   "name": "python3"
  },
  "language_info": {
   "codemirror_mode": {
    "name": "ipython",
    "version": 3
   },
   "file_extension": ".py",
   "mimetype": "text/x-python",
   "name": "python",
   "nbconvert_exporter": "python",
   "pygments_lexer": "ipython3",
   "version": "3.6.8"
  }
 },
 "nbformat": 4,
 "nbformat_minor": 4
}
