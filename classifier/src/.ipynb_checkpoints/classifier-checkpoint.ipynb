{
 "cells": [
  {
   "cell_type": "code",
   "execution_count": 1,
   "metadata": {},
   "outputs": [],
   "source": [
    "import torch\n",
    "import torch.nn as nn\n",
    "import numpy as np\n",
    "import h5py\n",
    "import os\n",
    "from ECG_classifier import Model\n",
    "\n",
    "encoding = 'NAVR'\n",
    "freq = [0]*len(encoding)\n",
    "\n",
    "N_counter = 0\n",
    "\n",
    "class NSTDB(torch.utils.data.Dataset):\n",
    "    def __init__(self):\n",
    "        global N_counter\n",
    "        self.h5_list = []\n",
    "        for root, dirs, files in os.walk('../segmentation'):\n",
    "            for f in files:\n",
    "                path = os.path.join(root, f)\n",
    "                if path[-2:] != 'h5':\n",
    "                    continue\n",
    "                with h5py.File(path, 'r') as h5:\n",
    "                    if h5['MLII'][:].size != 252:\n",
    "                        continue\n",
    "                    freq[encoding.index(h5['label'][()])] += 1\n",
    "                self.h5_list.append(os.path.join(root, f))\n",
    "        \n",
    "    def __getitem__(self, index):\n",
    "        with h5py.File(self.h5_list[index], 'r') as f:\n",
    "            index = f['index'][()]\n",
    "            MLII = torch.unsqueeze(torch.tensor(f['MLII'][:]), 0)\n",
    "            label = torch.tensor(encoding.index(f['label'][()]))\n",
    "            return {\n",
    "                'index': index,\n",
    "                'MLII': MLII.float(),\n",
    "                'label': label,\n",
    "            }\n",
    "    def __len__(self):\n",
    "        return len(self.h5_list)\n",
    "dataset = NSTDB()"
   ]
  },
  {
   "cell_type": "code",
   "execution_count": 2,
   "metadata": {},
   "outputs": [
    {
     "data": {
      "image/png": "[encoded data removed]",
      "text/plain": [
       "<Figure size 432x288 with 1 Axes>"
      ]
     },
     "metadata": {
      "needs_background": "light"
     },
     "output_type": "display_data"
    },
    {
     "name": "stdout",
     "output_type": "stream",
     "text": [
      "Label: tensor(2)\n",
      "Length: 5194\n",
      "freq: [2330, 122, 524, 2218]\n",
      "Weight tensor([ 1.0000, 19.0984,  4.4466,  1.0505])\n"
     ]
    }
   ],
   "source": [
    "import matplotlib.pyplot as plt\n",
    "index, MLII, label = dataset[100].values()\n",
    "plt.plot(range(len(MLII[0])), MLII[0])\n",
    "plt.show()\n",
    "print('Label:', label)\n",
    "print('Length:', len(dataset))\n",
    "print('freq:', freq)\n",
    "weight = max(freq)/torch.tensor(freq)\n",
    "print('Weight', weight)"
   ]
  },
  {
   "cell_type": "code",
   "execution_count": 3,
   "metadata": {},
   "outputs": [
    {
     "name": "stdout",
     "output_type": "stream",
     "text": [
      "4674 520\n"
     ]
    }
   ],
   "source": [
    "dataset_train, dataset_val = torch.utils.data.random_split(dataset, [int(0.9*len(dataset)), len(dataset)-int(0.9*len(dataset))])\n",
    "print(len(dataset_train), len(dataset_val))\n",
    "from torch.utils.data import DataLoader\n",
    "BATCH_SIZE = 512\n",
    "train_loader = DataLoader(dataset_train, batch_size=BATCH_SIZE, shuffle=True)\n",
    "val_loader = DataLoader(dataset_val, batch_size=BATCH_SIZE, shuffle=True)"
   ]
  },
  {
   "cell_type": "code",
   "execution_count": 4,
   "metadata": {},
   "outputs": [],
   "source": [
    "model = Model().cuda()"
   ]
  },
  {
   "cell_type": "code",
   "execution_count": 5,
   "metadata": {},
   "outputs": [],
   "source": [
    "criterion = nn.CrossEntropyLoss(weight=weight).cuda()\n",
    "optimizer = torch.optim.SGD(model.parameters(), lr=1e-3, momentum=0.9)"
   ]
  },
  {
   "cell_type": "code",
   "execution_count": 6,
   "metadata": {},
   "outputs": [],
   "source": [
    "def train(input_data, model, criterion, optimizer):\n",
    "    model.train()\n",
    "    loss_list = []\n",
    "    total_count = 0\n",
    "    acc_count = 0\n",
    "    for data in input_data:\n",
    "        index, MLII, label = data['index'], data['MLII'].cuda(), data['label'].cuda()\n",
    "        \n",
    "        optimizer.zero_grad()\n",
    "        out = model(MLII)\n",
    "        loss = criterion(out, label)\n",
    "        loss.backward()\n",
    "        optimizer.step()\n",
    "        \n",
    "        _, pred = torch.max(out, 1)\n",
    "        total_count += label.shape[0]\n",
    "        acc_count += (pred == label).sum().item()\n",
    "        loss_list.append(loss.item())\n",
    "        \n",
    "    acc = acc_count/total_count\n",
    "    loss = sum(loss_list)/len(loss_list)\n",
    "    return acc, loss"
   ]
  },
  {
   "cell_type": "code",
   "execution_count": 7,
   "metadata": {},
   "outputs": [],
   "source": [
    "def val(input_data, model, criterion):\n",
    "    model.train()\n",
    "    loss_list = []\n",
    "    total_count = 0\n",
    "    acc_count = 0\n",
    "    with torch.no_grad():\n",
    "        for data in input_data:\n",
    "            index, MLII, label = data['index'], data['MLII'].cuda(), data['label'].cuda()\n",
    "        \n",
    "            out = model(MLII)\n",
    "            loss = criterion(out, label)\n",
    "\n",
    "            _, pred = torch.max(out, 1)\n",
    "            total_count += label.shape[0]\n",
    "            acc_count += (pred == label).sum().item()\n",
    "            loss_list.append(loss.item())\n",
    "        \n",
    "    acc = acc_count/total_count\n",
    "    loss = sum(loss_list)/len(loss_list)\n",
    "    return acc, loss"
   ]
  },
  {
   "cell_type": "code",
   "execution_count": 8,
   "metadata": {},
   "outputs": [
    {
     "name": "stdout",
     "output_type": "stream",
     "text": [
      "Start training...\n",
      "\n",
      "==================== Epoch 1 ====================\n",
      "Train Acc: 0.606333 Train Loss: 1.316181\n",
      "  Val Acc: 0.740385   Val Loss: 1.282118\n",
      "\n",
      "==================== Epoch 2 ====================\n",
      "Train Acc: 0.747967 Train Loss: 1.131353\n",
      "  Val Acc: 0.805769   Val Loss: 0.918013\n",
      "\n",
      "==================== Epoch 3 ====================\n",
      "Train Acc: 0.782413 Train Loss: 0.962037\n",
      "  Val Acc: 0.826923   Val Loss: 0.899035\n",
      "\n",
      "==================== Epoch 4 ====================\n",
      "Train Acc: 0.813864 Train Loss: 0.806879\n",
      "  Val Acc: 0.861538   Val Loss: 0.617406\n",
      "\n",
      "==================== Epoch 5 ====================\n",
      "Train Acc: 0.857724 Train Loss: 0.710318\n",
      "  Val Acc: 0.888462   Val Loss: 0.711300\n",
      "\n",
      "==================== Epoch 6 ====================\n",
      "Train Acc: 0.877621 Train Loss: 0.620963\n",
      "  Val Acc: 0.892308   Val Loss: 0.429827\n",
      "\n",
      "==================== Epoch 7 ====================\n",
      "Train Acc: 0.884895 Train Loss: 0.583005\n",
      "  Val Acc: 0.894231   Val Loss: 0.435707\n",
      "\n",
      "==================== Epoch 8 ====================\n",
      "Train Acc: 0.885751 Train Loss: 0.546929\n",
      "  Val Acc: 0.888462   Val Loss: 0.437685\n",
      "\n",
      "==================== Epoch 9 ====================\n",
      "Train Acc: 0.879760 Train Loss: 0.509238\n",
      "  Val Acc: 0.878846   Val Loss: 0.323654\n",
      "\n",
      "==================== Epoch 10 ====================\n",
      "Train Acc: 0.884253 Train Loss: 0.485395\n",
      "  Val Acc: 0.890385   Val Loss: 0.515296\n",
      "\n",
      "==================== Epoch 11 ====================\n",
      "Train Acc: 0.887035 Train Loss: 0.462252\n",
      "  Val Acc: 0.878846   Val Loss: 0.448833\n",
      "\n",
      "==================== Epoch 12 ====================\n",
      "Train Acc: 0.887249 Train Loss: 0.435584\n",
      "  Val Acc: 0.903846   Val Loss: 0.382455\n",
      "\n",
      "==================== Epoch 13 ====================\n",
      "Train Acc: 0.905006 Train Loss: 0.427748\n",
      "  Val Acc: 0.900000   Val Loss: 0.303081\n",
      "\n",
      "==================== Epoch 14 ====================\n",
      "Train Acc: 0.908858 Train Loss: 0.415784\n",
      "  Val Acc: 0.896154   Val Loss: 0.268331\n",
      "\n",
      "==================== Epoch 15 ====================\n",
      "Train Acc: 0.896234 Train Loss: 0.392689\n",
      "  Val Acc: 0.876923   Val Loss: 0.310569\n",
      "\n",
      "==================== Epoch 16 ====================\n",
      "Train Acc: 0.906932 Train Loss: 0.385620\n",
      "  Val Acc: 0.901923   Val Loss: 0.306455\n",
      "\n",
      "==================== Epoch 17 ====================\n",
      "Train Acc: 0.911639 Train Loss: 0.390244\n",
      "  Val Acc: 0.898077   Val Loss: 0.263389\n",
      "\n",
      "==================== Epoch 18 ====================\n",
      "Train Acc: 0.910569 Train Loss: 0.375490\n",
      "  Val Acc: 0.903846   Val Loss: 0.338557\n",
      "\n",
      "==================== Epoch 19 ====================\n",
      "Train Acc: 0.906504 Train Loss: 0.349411\n",
      "  Val Acc: 0.898077   Val Loss: 0.370298\n",
      "\n",
      "==================== Epoch 20 ====================\n",
      "Train Acc: 0.915704 Train Loss: 0.348765\n",
      "  Val Acc: 0.900000   Val Loss: 0.332356\n"
     ]
    }
   ],
   "source": [
    "max_epochs = 20\n",
    "log_interval = 1\n",
    "\n",
    "train_acc_list = []\n",
    "train_loss_list = []\n",
    "val_acc_list = []\n",
    "val_loss_list = []\n",
    "\n",
    "min_loss = 1000000\n",
    "best_model = None\n",
    "\n",
    "print(\"Start training...\")\n",
    "for epoch in range(1, max_epochs+1):\n",
    "    train_acc, train_loss = train(train_loader, model, criterion, optimizer)\n",
    "    val_acc, val_loss = val(val_loader, model, criterion)\n",
    "    \n",
    "    train_acc_list.append(train_acc)\n",
    "    train_loss_list.append(train_loss)\n",
    "    val_acc_list.append(val_acc)\n",
    "    val_loss_list.append(val_loss)\n",
    "    \n",
    "    if val_loss < min_loss:\n",
    "        min_loss = val_loss\n",
    "        best_model = model.state_dict()\n",
    "        \n",
    "    if epoch % log_interval == 0:\n",
    "        print('')\n",
    "        print('=' * 20, 'Epoch', epoch, '=' * 20)\n",
    "        print('Train Acc: {:.6f} Train Loss: {:.6f}'.format(train_acc, train_loss))\n",
    "        print('  Val Acc: {:.6f}   Val Loss: {:.6f}'.format(val_acc, val_loss))\n",
    "        \n",
    "torch.save(best_model, 'ECG_classifier_params.pth')"
   ]
  },
  {
   "cell_type": "code",
   "execution_count": 9,
   "metadata": {},
   "outputs": [
    {
     "data": {
      "image/png": "[encoded data removed]",
      "text/plain": [
       "<Figure size 864x288 with 1 Axes>"
      ]
     },
     "metadata": {
      "needs_background": "light"
     },
     "output_type": "display_data"
    },
    {
     "data": {
      "image/png": "[encoded data removed]",
      "text/plain": [
       "<Figure size 864x288 with 1 Axes>"
      ]
     },
     "metadata": {
      "needs_background": "light"
     },
     "output_type": "display_data"
    }
   ],
   "source": [
    "import matplotlib.pyplot as plt\n",
    "\n",
    "plt.figure(figsize=(12, 4))\n",
    "plt.plot(range(len(train_loss_list)), train_loss_list)\n",
    "plt.plot(range(len(val_loss_list)), val_loss_list, c='r')\n",
    "plt.legend(['train_loss', 'val'])\n",
    "plt.title('Loss')\n",
    "plt.show()\n",
    "plt.figure(figsize=(12, 4))\n",
    "plt.plot(range(len(train_acc_list)), train_acc_list)\n",
    "plt.plot(range(len(val_acc_list)), val_acc_list, c='r')\n",
    "plt.legend(['train', 'val'])\n",
    "plt.show()"
   ]
  },
  {
   "cell_type": "code",
   "execution_count": null,
   "metadata": {},
   "outputs": [],
   "source": []
  }
 ],
 "metadata": {
  "kernelspec": {
   "display_name": "Python 3",
   "language": "python",
   "name": "python3"
  },
  "language_info": {
   "codemirror_mode": {
    "name": "ipython",
    "version": 3
   },
   "file_extension": ".py",
   "mimetype": "text/x-python",
   "name": "python",
   "nbconvert_exporter": "python",
   "pygments_lexer": "ipython3",
   "version": "3.6.8"
  }
 },
 "nbformat": 4,
 "nbformat_minor": 4
}
